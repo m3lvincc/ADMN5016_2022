{
 "cells": [
  {
   "cell_type": "code",
   "execution_count": 1,
   "id": "b983c50b",
   "metadata": {},
   "outputs": [],
   "source": [
    "# import libraries\n",
    "import numpy as np \n",
    "import pandas as pd \n",
    "import matplotlib.pyplot as plt  \n",
    "import seaborn as sns"
   ]
  },
  {
   "cell_type": "code",
   "execution_count": 2,
   "id": "9cfb1b95",
   "metadata": {},
   "outputs": [],
   "source": [
    "data=pd.read_csv(\"C:/Users/melvi/Downloads/creditcardcsvpresent.csv\")"
   ]
  },
  {
   "cell_type": "code",
   "execution_count": 3,
   "id": "7ada920b",
   "metadata": {},
   "outputs": [
    {
     "data": {
      "text/html": [
       "<div>\n",
       "<style scoped>\n",
       "    .dataframe tbody tr th:only-of-type {\n",
       "        vertical-align: middle;\n",
       "    }\n",
       "\n",
       "    .dataframe tbody tr th {\n",
       "        vertical-align: top;\n",
       "    }\n",
       "\n",
       "    .dataframe thead th {\n",
       "        text-align: right;\n",
       "    }\n",
       "</style>\n",
       "<table border=\"1\" class=\"dataframe\">\n",
       "  <thead>\n",
       "    <tr style=\"text-align: right;\">\n",
       "      <th></th>\n",
       "      <th>Merchant_id</th>\n",
       "      <th>Average Amount/transaction/day</th>\n",
       "      <th>Transaction_amount</th>\n",
       "      <th>Is declined</th>\n",
       "      <th>Total Number of declines/day</th>\n",
       "      <th>isForeignTransaction</th>\n",
       "      <th>isHighRiskCountry</th>\n",
       "      <th>Daily_chargeback_avg_amt</th>\n",
       "      <th>6_month_avg_chbk_amt</th>\n",
       "      <th>6-month_chbk_freq</th>\n",
       "      <th>isFradulent</th>\n",
       "    </tr>\n",
       "  </thead>\n",
       "  <tbody>\n",
       "    <tr>\n",
       "      <th>0</th>\n",
       "      <td>3160040998</td>\n",
       "      <td>100.0</td>\n",
       "      <td>3000.0</td>\n",
       "      <td>N</td>\n",
       "      <td>5</td>\n",
       "      <td>Y</td>\n",
       "      <td>Y</td>\n",
       "      <td>0</td>\n",
       "      <td>0.0</td>\n",
       "      <td>0</td>\n",
       "      <td>Y</td>\n",
       "    </tr>\n",
       "    <tr>\n",
       "      <th>1</th>\n",
       "      <td>3160040998</td>\n",
       "      <td>100.0</td>\n",
       "      <td>4300.0</td>\n",
       "      <td>N</td>\n",
       "      <td>5</td>\n",
       "      <td>Y</td>\n",
       "      <td>Y</td>\n",
       "      <td>0</td>\n",
       "      <td>0.0</td>\n",
       "      <td>0</td>\n",
       "      <td>Y</td>\n",
       "    </tr>\n",
       "    <tr>\n",
       "      <th>2</th>\n",
       "      <td>3160041896</td>\n",
       "      <td>185.5</td>\n",
       "      <td>4823.0</td>\n",
       "      <td>Y</td>\n",
       "      <td>5</td>\n",
       "      <td>N</td>\n",
       "      <td>N</td>\n",
       "      <td>0</td>\n",
       "      <td>0.0</td>\n",
       "      <td>0</td>\n",
       "      <td>Y</td>\n",
       "    </tr>\n",
       "    <tr>\n",
       "      <th>3</th>\n",
       "      <td>3160141996</td>\n",
       "      <td>185.5</td>\n",
       "      <td>5008.5</td>\n",
       "      <td>Y</td>\n",
       "      <td>8</td>\n",
       "      <td>N</td>\n",
       "      <td>N</td>\n",
       "      <td>0</td>\n",
       "      <td>0.0</td>\n",
       "      <td>0</td>\n",
       "      <td>Y</td>\n",
       "    </tr>\n",
       "    <tr>\n",
       "      <th>4</th>\n",
       "      <td>3160241992</td>\n",
       "      <td>500.0</td>\n",
       "      <td>26000.0</td>\n",
       "      <td>N</td>\n",
       "      <td>0</td>\n",
       "      <td>Y</td>\n",
       "      <td>Y</td>\n",
       "      <td>800</td>\n",
       "      <td>677.2</td>\n",
       "      <td>6</td>\n",
       "      <td>Y</td>\n",
       "    </tr>\n",
       "  </tbody>\n",
       "</table>\n",
       "</div>"
      ],
      "text/plain": [
       "   Merchant_id  Average Amount/transaction/day  Transaction_amount  \\\n",
       "0   3160040998                           100.0              3000.0   \n",
       "1   3160040998                           100.0              4300.0   \n",
       "2   3160041896                           185.5              4823.0   \n",
       "3   3160141996                           185.5              5008.5   \n",
       "4   3160241992                           500.0             26000.0   \n",
       "\n",
       "  Is declined  Total Number of declines/day isForeignTransaction  \\\n",
       "0           N                             5                    Y   \n",
       "1           N                             5                    Y   \n",
       "2           Y                             5                    N   \n",
       "3           Y                             8                    N   \n",
       "4           N                             0                    Y   \n",
       "\n",
       "  isHighRiskCountry  Daily_chargeback_avg_amt  6_month_avg_chbk_amt  \\\n",
       "0                 Y                         0                   0.0   \n",
       "1                 Y                         0                   0.0   \n",
       "2                 N                         0                   0.0   \n",
       "3                 N                         0                   0.0   \n",
       "4                 Y                       800                 677.2   \n",
       "\n",
       "   6-month_chbk_freq isFradulent  \n",
       "0                  0           Y  \n",
       "1                  0           Y  \n",
       "2                  0           Y  \n",
       "3                  0           Y  \n",
       "4                  6           Y  "
      ]
     },
     "execution_count": 3,
     "metadata": {},
     "output_type": "execute_result"
    }
   ],
   "source": [
    "data.head()"
   ]
  },
  {
   "cell_type": "code",
   "execution_count": 7,
   "id": "8b715087",
   "metadata": {},
   "outputs": [],
   "source": [
    "# my target variables is \"isFradulent\""
   ]
  },
  {
   "cell_type": "code",
   "execution_count": 5,
   "id": "4e53d704",
   "metadata": {},
   "outputs": [],
   "source": [
    "# copy \n",
    "df=data.copy()"
   ]
  },
  {
   "cell_type": "code",
   "execution_count": 6,
   "id": "1348aff4",
   "metadata": {},
   "outputs": [
    {
     "data": {
      "text/plain": [
       "Index(['Merchant_id', 'Average Amount/transaction/day', 'Transaction_amount',\n",
       "       'Is declined', 'Total Number of declines/day', 'isForeignTransaction',\n",
       "       'isHighRiskCountry', 'Daily_chargeback_avg_amt', '6_month_avg_chbk_amt',\n",
       "       '6-month_chbk_freq', 'isFradulent'],\n",
       "      dtype='object')"
      ]
     },
     "execution_count": 6,
     "metadata": {},
     "output_type": "execute_result"
    }
   ],
   "source": [
    "# columns\n",
    "df.columns"
   ]
  },
  {
   "cell_type": "code",
   "execution_count": 7,
   "id": "6413a131",
   "metadata": {},
   "outputs": [
    {
     "data": {
      "text/plain": [
       "(3075, 11)"
      ]
     },
     "execution_count": 7,
     "metadata": {},
     "output_type": "execute_result"
    }
   ],
   "source": [
    "# shape for my data\n",
    "df.shape"
   ]
  },
  {
   "cell_type": "code",
   "execution_count": null,
   "id": "3bef69ca",
   "metadata": {},
   "outputs": [],
   "source": [
    "# Missing values"
   ]
  },
  {
   "cell_type": "code",
   "execution_count": 8,
   "id": "ad644411",
   "metadata": {},
   "outputs": [
    {
     "name": "stdout",
     "output_type": "stream",
     "text": [
      "<class 'pandas.core.frame.DataFrame'>\n",
      "RangeIndex: 3075 entries, 0 to 3074\n",
      "Data columns (total 11 columns):\n",
      " #   Column                          Non-Null Count  Dtype  \n",
      "---  ------                          --------------  -----  \n",
      " 0   Merchant_id                     3075 non-null   int64  \n",
      " 1   Average Amount/transaction/day  3075 non-null   float64\n",
      " 2   Transaction_amount              3075 non-null   float64\n",
      " 3   Is declined                     3075 non-null   object \n",
      " 4   Total Number of declines/day    3075 non-null   int64  \n",
      " 5   isForeignTransaction            3075 non-null   object \n",
      " 6   isHighRiskCountry               3075 non-null   object \n",
      " 7   Daily_chargeback_avg_amt        3075 non-null   int64  \n",
      " 8   6_month_avg_chbk_amt            3075 non-null   float64\n",
      " 9   6-month_chbk_freq               3075 non-null   int64  \n",
      " 10  isFradulent                     3075 non-null   object \n",
      "dtypes: float64(3), int64(4), object(4)\n",
      "memory usage: 264.4+ KB\n"
     ]
    }
   ],
   "source": [
    " df.info()"
   ]
  },
  {
   "cell_type": "code",
   "execution_count": 9,
   "id": "a22341ac",
   "metadata": {},
   "outputs": [
    {
     "data": {
      "text/plain": [
       "int64      4\n",
       "object     4\n",
       "float64    3\n",
       "dtype: int64"
      ]
     },
     "execution_count": 9,
     "metadata": {},
     "output_type": "execute_result"
    }
   ],
   "source": [
    "# data types\n",
    "df.dtypes.value_counts()"
   ]
  },
  {
   "cell_type": "code",
   "execution_count": 10,
   "id": "0af32775",
   "metadata": {},
   "outputs": [
    {
     "name": "stdout",
     "output_type": "stream",
     "text": [
      "Is declined\n",
      "isForeignTransaction\n",
      "isHighRiskCountry\n",
      "isFradulent\n"
     ]
    }
   ],
   "source": [
    " #qualitative variables\n",
    "for col in df.select_dtypes(\"object\"):\n",
    "    print(col)"
   ]
  },
  {
   "cell_type": "code",
   "execution_count": 11,
   "id": "35668c08",
   "metadata": {},
   "outputs": [
    {
     "data": {
      "image/png": "[encoded data removed]",
      "text/plain": [
       "<Figure size 432x288 with 1 Axes>"
      ]
     },
     "metadata": {},
     "output_type": "display_data"
    },
    {
     "data": {
      "image/png": "[encoded data removed]",
      "text/plain": [
       "<Figure size 432x288 with 1 Axes>"
      ]
     },
     "metadata": {},
     "output_type": "display_data"
    },
    {
     "data": {
      "image/png": "[encoded data removed]",
      "text/plain": [
       "<Figure size 432x288 with 1 Axes>"
      ]
     },
     "metadata": {},
     "output_type": "display_data"
    },
    {
     "data": {
      "image/png": "[encoded data removed]",
      "text/plain": [
       "<Figure size 432x288 with 1 Axes>"
      ]
     },
     "metadata": {},
     "output_type": "display_data"
    }
   ],
   "source": [
    "# visualize qualitative variables\n",
    "for col in df.select_dtypes(\"object\"):\n",
    "    plt.figure()\n",
    "    df[col].value_counts(normalize=True).plot.pie()"
   ]
  },
  {
   "cell_type": "code",
   "execution_count": 12,
   "id": "03da56af",
   "metadata": {},
   "outputs": [
    {
     "name": "stdout",
     "output_type": "stream",
     "text": [
      "Average Amount/transaction/day\n",
      "Transaction_amount\n",
      "6_month_avg_chbk_amt\n"
     ]
    }
   ],
   "source": [
    "# quantitative variables\n",
    "for col in df.select_dtypes(\"float\"):\n",
    "    print(col)"
   ]
  },
  {
   "cell_type": "code",
   "execution_count": 13,
   "id": "d29d422b",
   "metadata": {},
   "outputs": [
    {
     "data": {
      "text/html": [
       "<div>\n",
       "<style scoped>\n",
       "    .dataframe tbody tr th:only-of-type {\n",
       "        vertical-align: middle;\n",
       "    }\n",
       "\n",
       "    .dataframe tbody tr th {\n",
       "        vertical-align: top;\n",
       "    }\n",
       "\n",
       "    .dataframe thead th {\n",
       "        text-align: right;\n",
       "    }\n",
       "</style>\n",
       "<table border=\"1\" class=\"dataframe\">\n",
       "  <thead>\n",
       "    <tr style=\"text-align: right;\">\n",
       "      <th></th>\n",
       "      <th>Merchant_id</th>\n",
       "      <th>Average Amount/transaction/day</th>\n",
       "      <th>Transaction_amount</th>\n",
       "      <th>Total Number of declines/day</th>\n",
       "      <th>Daily_chargeback_avg_amt</th>\n",
       "      <th>6_month_avg_chbk_amt</th>\n",
       "      <th>6-month_chbk_freq</th>\n",
       "    </tr>\n",
       "  </thead>\n",
       "  <tbody>\n",
       "    <tr>\n",
       "      <th>count</th>\n",
       "      <td>3.075000e+03</td>\n",
       "      <td>3075.000000</td>\n",
       "      <td>3075.000000</td>\n",
       "      <td>3075.000000</td>\n",
       "      <td>3075.000000</td>\n",
       "      <td>3075.000000</td>\n",
       "      <td>3075.000000</td>\n",
       "    </tr>\n",
       "    <tr>\n",
       "      <th>mean</th>\n",
       "      <td>5.026634e+09</td>\n",
       "      <td>515.026556</td>\n",
       "      <td>9876.399210</td>\n",
       "      <td>0.957398</td>\n",
       "      <td>55.737561</td>\n",
       "      <td>40.022407</td>\n",
       "      <td>0.391870</td>\n",
       "    </tr>\n",
       "    <tr>\n",
       "      <th>std</th>\n",
       "      <td>9.870778e+08</td>\n",
       "      <td>291.906978</td>\n",
       "      <td>10135.331016</td>\n",
       "      <td>2.192391</td>\n",
       "      <td>206.634779</td>\n",
       "      <td>155.968840</td>\n",
       "      <td>1.548479</td>\n",
       "    </tr>\n",
       "    <tr>\n",
       "      <th>min</th>\n",
       "      <td>3.160041e+09</td>\n",
       "      <td>4.011527</td>\n",
       "      <td>0.000000</td>\n",
       "      <td>0.000000</td>\n",
       "      <td>0.000000</td>\n",
       "      <td>0.000000</td>\n",
       "      <td>0.000000</td>\n",
       "    </tr>\n",
       "    <tr>\n",
       "      <th>25%</th>\n",
       "      <td>4.170814e+09</td>\n",
       "      <td>269.788047</td>\n",
       "      <td>2408.781147</td>\n",
       "      <td>0.000000</td>\n",
       "      <td>0.000000</td>\n",
       "      <td>0.000000</td>\n",
       "      <td>0.000000</td>\n",
       "    </tr>\n",
       "    <tr>\n",
       "      <th>50%</th>\n",
       "      <td>5.025578e+09</td>\n",
       "      <td>502.549575</td>\n",
       "      <td>6698.891856</td>\n",
       "      <td>0.000000</td>\n",
       "      <td>0.000000</td>\n",
       "      <td>0.000000</td>\n",
       "      <td>0.000000</td>\n",
       "    </tr>\n",
       "    <tr>\n",
       "      <th>75%</th>\n",
       "      <td>5.889625e+09</td>\n",
       "      <td>765.272803</td>\n",
       "      <td>14422.568935</td>\n",
       "      <td>0.000000</td>\n",
       "      <td>0.000000</td>\n",
       "      <td>0.000000</td>\n",
       "      <td>0.000000</td>\n",
       "    </tr>\n",
       "    <tr>\n",
       "      <th>max</th>\n",
       "      <td>6.665906e+09</td>\n",
       "      <td>2000.000000</td>\n",
       "      <td>108000.000000</td>\n",
       "      <td>20.000000</td>\n",
       "      <td>998.000000</td>\n",
       "      <td>998.000000</td>\n",
       "      <td>9.000000</td>\n",
       "    </tr>\n",
       "  </tbody>\n",
       "</table>\n",
       "</div>"
      ],
      "text/plain": [
       "        Merchant_id  Average Amount/transaction/day  Transaction_amount  \\\n",
       "count  3.075000e+03                     3075.000000         3075.000000   \n",
       "mean   5.026634e+09                      515.026556         9876.399210   \n",
       "std    9.870778e+08                      291.906978        10135.331016   \n",
       "min    3.160041e+09                        4.011527            0.000000   \n",
       "25%    4.170814e+09                      269.788047         2408.781147   \n",
       "50%    5.025578e+09                      502.549575         6698.891856   \n",
       "75%    5.889625e+09                      765.272803        14422.568935   \n",
       "max    6.665906e+09                     2000.000000       108000.000000   \n",
       "\n",
       "       Total Number of declines/day  Daily_chargeback_avg_amt  \\\n",
       "count                   3075.000000               3075.000000   \n",
       "mean                       0.957398                 55.737561   \n",
       "std                        2.192391                206.634779   \n",
       "min                        0.000000                  0.000000   \n",
       "25%                        0.000000                  0.000000   \n",
       "50%                        0.000000                  0.000000   \n",
       "75%                        0.000000                  0.000000   \n",
       "max                       20.000000                998.000000   \n",
       "\n",
       "       6_month_avg_chbk_amt  6-month_chbk_freq  \n",
       "count           3075.000000        3075.000000  \n",
       "mean              40.022407           0.391870  \n",
       "std              155.968840           1.548479  \n",
       "min                0.000000           0.000000  \n",
       "25%                0.000000           0.000000  \n",
       "50%                0.000000           0.000000  \n",
       "75%                0.000000           0.000000  \n",
       "max              998.000000           9.000000  "
      ]
     },
     "execution_count": 13,
     "metadata": {},
     "output_type": "execute_result"
    }
   ],
   "source": [
    "# statistical analisys\n",
    "df.describe()"
   ]
  },
  {
   "cell_type": "code",
   "execution_count": 14,
   "id": "655de817",
   "metadata": {},
   "outputs": [
    {
     "name": "stdout",
     "output_type": "stream",
     "text": [
      "Merchant_id\n",
      "Total Number of declines/day\n",
      "Daily_chargeback_avg_amt\n",
      "6-month_chbk_freq\n"
     ]
    }
   ],
   "source": [
    "for col in df.select_dtypes(\"int64\"):\n",
    "    print(col)"
   ]
  },
  {
   "cell_type": "code",
   "execution_count": 15,
   "id": "c23e2363",
   "metadata": {},
   "outputs": [],
   "source": [
    "# little encoding for qualitative variables\n",
    "code={\n",
    "    \"N\":0,\n",
    "    \"Y\":1\n",
    "     }"
   ]
  },
  {
   "cell_type": "code",
   "execution_count": 17,
   "id": "9d1d961d",
   "metadata": {},
   "outputs": [],
   "source": [
    "for obj in df.select_dtypes(\"object\"):\n",
    "    df[obj]=df[obj].map(code)"
   ]
  },
  {
   "cell_type": "code",
   "execution_count": 43,
   "id": "55577f02",
   "metadata": {},
   "outputs": [
    {
     "data": {
      "text/html": [
       "<div>\n",
       "<style scoped>\n",
       "    .dataframe tbody tr th:only-of-type {\n",
       "        vertical-align: middle;\n",
       "    }\n",
       "\n",
       "    .dataframe tbody tr th {\n",
       "        vertical-align: top;\n",
       "    }\n",
       "\n",
       "    .dataframe thead th {\n",
       "        text-align: right;\n",
       "    }\n",
       "</style>\n",
       "<table border=\"1\" class=\"dataframe\">\n",
       "  <thead>\n",
       "    <tr style=\"text-align: right;\">\n",
       "      <th></th>\n",
       "      <th>Merchant_id</th>\n",
       "      <th>Average Amount/transaction/day</th>\n",
       "      <th>Transaction_amount</th>\n",
       "      <th>Is declined</th>\n",
       "      <th>Total Number of declines/day</th>\n",
       "      <th>isForeignTransaction</th>\n",
       "      <th>isHighRiskCountry</th>\n",
       "      <th>Daily_chargeback_avg_amt</th>\n",
       "      <th>6_month_avg_chbk_amt</th>\n",
       "      <th>6-month_chbk_freq</th>\n",
       "      <th>isFradulent</th>\n",
       "    </tr>\n",
       "  </thead>\n",
       "  <tbody>\n",
       "    <tr>\n",
       "      <th>Merchant_id</th>\n",
       "      <td>1.000000</td>\n",
       "      <td>0.018223</td>\n",
       "      <td>0.046065</td>\n",
       "      <td>0.159211</td>\n",
       "      <td>-0.016165</td>\n",
       "      <td>0.030289</td>\n",
       "      <td>0.028611</td>\n",
       "      <td>0.088802</td>\n",
       "      <td>0.091621</td>\n",
       "      <td>0.118599</td>\n",
       "      <td>0.043068</td>\n",
       "    </tr>\n",
       "    <tr>\n",
       "      <th>Average Amount/transaction/day</th>\n",
       "      <td>0.018223</td>\n",
       "      <td>1.000000</td>\n",
       "      <td>0.587111</td>\n",
       "      <td>0.081184</td>\n",
       "      <td>-0.009682</td>\n",
       "      <td>0.047316</td>\n",
       "      <td>0.014604</td>\n",
       "      <td>0.060429</td>\n",
       "      <td>0.060284</td>\n",
       "      <td>0.071849</td>\n",
       "      <td>0.023504</td>\n",
       "    </tr>\n",
       "    <tr>\n",
       "      <th>Transaction_amount</th>\n",
       "      <td>0.046065</td>\n",
       "      <td>0.587111</td>\n",
       "      <td>1.000000</td>\n",
       "      <td>0.197009</td>\n",
       "      <td>0.259309</td>\n",
       "      <td>0.276764</td>\n",
       "      <td>0.325397</td>\n",
       "      <td>0.252298</td>\n",
       "      <td>0.259663</td>\n",
       "      <td>0.297623</td>\n",
       "      <td>0.528913</td>\n",
       "    </tr>\n",
       "    <tr>\n",
       "      <th>Is declined</th>\n",
       "      <td>0.159211</td>\n",
       "      <td>0.081184</td>\n",
       "      <td>0.197009</td>\n",
       "      <td>1.000000</td>\n",
       "      <td>0.115961</td>\n",
       "      <td>0.079761</td>\n",
       "      <td>0.127586</td>\n",
       "      <td>0.394083</td>\n",
       "      <td>0.407917</td>\n",
       "      <td>0.499365</td>\n",
       "      <td>0.271282</td>\n",
       "    </tr>\n",
       "    <tr>\n",
       "      <th>Total Number of declines/day</th>\n",
       "      <td>-0.016165</td>\n",
       "      <td>-0.009682</td>\n",
       "      <td>0.259309</td>\n",
       "      <td>0.115961</td>\n",
       "      <td>1.000000</td>\n",
       "      <td>0.227904</td>\n",
       "      <td>0.292459</td>\n",
       "      <td>0.094834</td>\n",
       "      <td>0.081138</td>\n",
       "      <td>0.085028</td>\n",
       "      <td>0.531990</td>\n",
       "    </tr>\n",
       "    <tr>\n",
       "      <th>isForeignTransaction</th>\n",
       "      <td>0.030289</td>\n",
       "      <td>0.047316</td>\n",
       "      <td>0.276764</td>\n",
       "      <td>0.079761</td>\n",
       "      <td>0.227904</td>\n",
       "      <td>1.000000</td>\n",
       "      <td>0.489572</td>\n",
       "      <td>0.054798</td>\n",
       "      <td>0.060566</td>\n",
       "      <td>0.077083</td>\n",
       "      <td>0.478113</td>\n",
       "    </tr>\n",
       "    <tr>\n",
       "      <th>isHighRiskCountry</th>\n",
       "      <td>0.028611</td>\n",
       "      <td>0.014604</td>\n",
       "      <td>0.325397</td>\n",
       "      <td>0.127586</td>\n",
       "      <td>0.292459</td>\n",
       "      <td>0.489572</td>\n",
       "      <td>1.000000</td>\n",
       "      <td>0.074902</td>\n",
       "      <td>0.073167</td>\n",
       "      <td>0.098241</td>\n",
       "      <td>0.639792</td>\n",
       "    </tr>\n",
       "    <tr>\n",
       "      <th>Daily_chargeback_avg_amt</th>\n",
       "      <td>0.088802</td>\n",
       "      <td>0.060429</td>\n",
       "      <td>0.252298</td>\n",
       "      <td>0.394083</td>\n",
       "      <td>0.094834</td>\n",
       "      <td>0.054798</td>\n",
       "      <td>0.074902</td>\n",
       "      <td>1.000000</td>\n",
       "      <td>0.953663</td>\n",
       "      <td>0.884611</td>\n",
       "      <td>0.385964</td>\n",
       "    </tr>\n",
       "    <tr>\n",
       "      <th>6_month_avg_chbk_amt</th>\n",
       "      <td>0.091621</td>\n",
       "      <td>0.060284</td>\n",
       "      <td>0.259663</td>\n",
       "      <td>0.407917</td>\n",
       "      <td>0.081138</td>\n",
       "      <td>0.060566</td>\n",
       "      <td>0.073167</td>\n",
       "      <td>0.953663</td>\n",
       "      <td>1.000000</td>\n",
       "      <td>0.851339</td>\n",
       "      <td>0.375758</td>\n",
       "    </tr>\n",
       "    <tr>\n",
       "      <th>6-month_chbk_freq</th>\n",
       "      <td>0.118599</td>\n",
       "      <td>0.071849</td>\n",
       "      <td>0.297623</td>\n",
       "      <td>0.499365</td>\n",
       "      <td>0.085028</td>\n",
       "      <td>0.077083</td>\n",
       "      <td>0.098241</td>\n",
       "      <td>0.884611</td>\n",
       "      <td>0.851339</td>\n",
       "      <td>1.000000</td>\n",
       "      <td>0.443824</td>\n",
       "    </tr>\n",
       "    <tr>\n",
       "      <th>isFradulent</th>\n",
       "      <td>0.043068</td>\n",
       "      <td>0.023504</td>\n",
       "      <td>0.528913</td>\n",
       "      <td>0.271282</td>\n",
       "      <td>0.531990</td>\n",
       "      <td>0.478113</td>\n",
       "      <td>0.639792</td>\n",
       "      <td>0.385964</td>\n",
       "      <td>0.375758</td>\n",
       "      <td>0.443824</td>\n",
       "      <td>1.000000</td>\n",
       "    </tr>\n",
       "  </tbody>\n",
       "</table>\n",
       "</div>"
      ],
      "text/plain": [
       "                                Merchant_id  Average Amount/transaction/day  \\\n",
       "Merchant_id                        1.000000                        0.018223   \n",
       "Average Amount/transaction/day     0.018223                        1.000000   \n",
       "Transaction_amount                 0.046065                        0.587111   \n",
       "Is declined                        0.159211                        0.081184   \n",
       "Total Number of declines/day      -0.016165                       -0.009682   \n",
       "isForeignTransaction               0.030289                        0.047316   \n",
       "isHighRiskCountry                  0.028611                        0.014604   \n",
       "Daily_chargeback_avg_amt           0.088802                        0.060429   \n",
       "6_month_avg_chbk_amt               0.091621                        0.060284   \n",
       "6-month_chbk_freq                  0.118599                        0.071849   \n",
       "isFradulent                        0.043068                        0.023504   \n",
       "\n",
       "                                Transaction_amount  Is declined  \\\n",
       "Merchant_id                               0.046065     0.159211   \n",
       "Average Amount/transaction/day            0.587111     0.081184   \n",
       "Transaction_amount                        1.000000     0.197009   \n",
       "Is declined                               0.197009     1.000000   \n",
       "Total Number of declines/day              0.259309     0.115961   \n",
       "isForeignTransaction                      0.276764     0.079761   \n",
       "isHighRiskCountry                         0.325397     0.127586   \n",
       "Daily_chargeback_avg_amt                  0.252298     0.394083   \n",
       "6_month_avg_chbk_amt                      0.259663     0.407917   \n",
       "6-month_chbk_freq                         0.297623     0.499365   \n",
       "isFradulent                               0.528913     0.271282   \n",
       "\n",
       "                                Total Number of declines/day  \\\n",
       "Merchant_id                                        -0.016165   \n",
       "Average Amount/transaction/day                     -0.009682   \n",
       "Transaction_amount                                  0.259309   \n",
       "Is declined                                         0.115961   \n",
       "Total Number of declines/day                        1.000000   \n",
       "isForeignTransaction                                0.227904   \n",
       "isHighRiskCountry                                   0.292459   \n",
       "Daily_chargeback_avg_amt                            0.094834   \n",
       "6_month_avg_chbk_amt                                0.081138   \n",
       "6-month_chbk_freq                                   0.085028   \n",
       "isFradulent                                         0.531990   \n",
       "\n",
       "                                isForeignTransaction  isHighRiskCountry  \\\n",
       "Merchant_id                                 0.030289           0.028611   \n",
       "Average Amount/transaction/day              0.047316           0.014604   \n",
       "Transaction_amount                          0.276764           0.325397   \n",
       "Is declined                                 0.079761           0.127586   \n",
       "Total Number of declines/day                0.227904           0.292459   \n",
       "isForeignTransaction                        1.000000           0.489572   \n",
       "isHighRiskCountry                           0.489572           1.000000   \n",
       "Daily_chargeback_avg_amt                    0.054798           0.074902   \n",
       "6_month_avg_chbk_amt                        0.060566           0.073167   \n",
       "6-month_chbk_freq                           0.077083           0.098241   \n",
       "isFradulent                                 0.478113           0.639792   \n",
       "\n",
       "                                Daily_chargeback_avg_amt  \\\n",
       "Merchant_id                                     0.088802   \n",
       "Average Amount/transaction/day                  0.060429   \n",
       "Transaction_amount                              0.252298   \n",
       "Is declined                                     0.394083   \n",
       "Total Number of declines/day                    0.094834   \n",
       "isForeignTransaction                            0.054798   \n",
       "isHighRiskCountry                               0.074902   \n",
       "Daily_chargeback_avg_amt                        1.000000   \n",
       "6_month_avg_chbk_amt                            0.953663   \n",
       "6-month_chbk_freq                               0.884611   \n",
       "isFradulent                                     0.385964   \n",
       "\n",
       "                                6_month_avg_chbk_amt  6-month_chbk_freq  \\\n",
       "Merchant_id                                 0.091621           0.118599   \n",
       "Average Amount/transaction/day              0.060284           0.071849   \n",
       "Transaction_amount                          0.259663           0.297623   \n",
       "Is declined                                 0.407917           0.499365   \n",
       "Total Number of declines/day                0.081138           0.085028   \n",
       "isForeignTransaction                        0.060566           0.077083   \n",
       "isHighRiskCountry                           0.073167           0.098241   \n",
       "Daily_chargeback_avg_amt                    0.953663           0.884611   \n",
       "6_month_avg_chbk_amt                        1.000000           0.851339   \n",
       "6-month_chbk_freq                           0.851339           1.000000   \n",
       "isFradulent                                 0.375758           0.443824   \n",
       "\n",
       "                                isFradulent  \n",
       "Merchant_id                        0.043068  \n",
       "Average Amount/transaction/day     0.023504  \n",
       "Transaction_amount                 0.528913  \n",
       "Is declined                        0.271282  \n",
       "Total Number of declines/day       0.531990  \n",
       "isForeignTransaction               0.478113  \n",
       "isHighRiskCountry                  0.639792  \n",
       "Daily_chargeback_avg_amt           0.385964  \n",
       "6_month_avg_chbk_amt               0.375758  \n",
       "6-month_chbk_freq                  0.443824  \n",
       "isFradulent                        1.000000  "
      ]
     },
     "execution_count": 43,
     "metadata": {},
     "output_type": "execute_result"
    }
   ],
   "source": [
    "# calcul correlation\n",
    "df.corr()"
   ]
  },
  {
   "cell_type": "code",
   "execution_count": 70,
   "id": "5f4aeaf2",
   "metadata": {},
   "outputs": [
    {
     "data": {
      "text/plain": [
       "<AxesSubplot:>"
      ]
     },
     "execution_count": 70,
     "metadata": {},
     "output_type": "execute_result"
    },
    {
     "data": {
      "image/png": "[encoded data removed]",
      "text/plain": [
       "<Figure size 1080x720 with 2 Axes>"
      ]
     },
     "metadata": {
      "needs_background": "light"
     },
     "output_type": "display_data"
    }
   ],
   "source": [
    "# view correlation\n",
    "fig,ax = plt.subplots()\n",
    "fig.set_size_inches(15,10)\n",
    "sns.heatmap(df.corr(), vmax = 8, square = True, annot = True)"
   ]
  },
  {
   "cell_type": "code",
   "execution_count": 51,
   "id": "6114301a",
   "metadata": {},
   "outputs": [],
   "source": [
    "#  preprocessing\n",
    "# sklearn modules\n",
    "from sklearn.model_selection import train_test_split"
   ]
  },
  {
   "cell_type": "code",
   "execution_count": 52,
   "id": "4d9340f2",
   "metadata": {},
   "outputs": [],
   "source": [
    "# create trainset and testset\n",
    "trainset,testset=train_test_split(df,test_size=0.2,random_state=0)"
   ]
  },
  {
   "cell_type": "code",
   "execution_count": 53,
   "id": "46da7cf0",
   "metadata": {},
   "outputs": [],
   "source": [
    "# create X_train,y_train,X_test,y_test\n",
    "def prepro(df):\n",
    "    X=df.drop([\"isFradulent\"],axis=1)\n",
    "    y=df[\"isFradulent\"]\n",
    "    return X,y"
   ]
  },
  {
   "cell_type": "code",
   "execution_count": 54,
   "id": "f51a29ab",
   "metadata": {},
   "outputs": [],
   "source": [
    "X_train,y_train=prepro(trainset)"
   ]
  },
  {
   "cell_type": "code",
   "execution_count": 55,
   "id": "c695578d",
   "metadata": {},
   "outputs": [],
   "source": [
    "X_test,y_test=prepro(testset)"
   ]
  },
  {
   "cell_type": "code",
   "execution_count": 56,
   "id": "93d5eac1",
   "metadata": {},
   "outputs": [],
   "source": [
    "# first modelling\n",
    "# sklearn modules\n",
    "from sklearn.pipeline import make_pipeline\n",
    "from sklearn.svm import SVC\n",
    "from sklearn.preprocessing import StandardScaler,Normalizer,PolynomialFeatures\n",
    "from sklearn.metrics import confusion_matrix,f1_score,classification_report\n",
    "from sklearn.model_selection import learning_curve,GridSearchCV\n",
    "from sklearn.neighbors import KNeighborsClassifier\n",
    "from sklearn.tree import DecisionTreeClassifier"
   ]
  },
  {
   "cell_type": "code",
   "execution_count": 57,
   "id": "e4f268a0",
   "metadata": {},
   "outputs": [],
   "source": [
    "# first model\n",
    "svc=make_pipeline(StandardScaler(),SVC())"
   ]
  },
  {
   "cell_type": "code",
   "execution_count": 58,
   "id": "c8b23683",
   "metadata": {},
   "outputs": [],
   "source": [
    "# evaluation function\n",
    "def evalu(model):\n",
    "    model.fit(X_train,y_train)\n",
    "    ypred=model.predict(X_test)\n",
    "    print(\"confusion matrix\",confusion_matrix(y_test,ypred))\n",
    "    print(classification_report(y_test,ypred))\n",
    "    N,train_score,val_score=learning_curve(model,X_train,y_train,scoring=\"f1\",train_sizes=np.linspace(0.1,1,10),cv=5)\n",
    "    plt.figure()\n",
    "    plt.plot(N,train_score.mean(axis=1),label=\"train_score\")\n",
    "    plt.plot(N,val_score.mean(axis=1),label=\"validation_score\")\n",
    "    plt.legend()"
   ]
  },
  {
   "cell_type": "code",
   "execution_count": 59,
   "id": "5916c24c",
   "metadata": {},
   "outputs": [
    {
     "name": "stdout",
     "output_type": "stream",
     "text": [
      "confusion matrix [[527   5]\n",
      " [  5  78]]\n",
      "              precision    recall  f1-score   support\n",
      "\n",
      "           0       0.99      0.99      0.99       532\n",
      "           1       0.94      0.94      0.94        83\n",
      "\n",
      "    accuracy                           0.98       615\n",
      "   macro avg       0.97      0.97      0.97       615\n",
      "weighted avg       0.98      0.98      0.98       615\n",
      "\n"
     ]
    },
    {
     "data": {
      "image/png": "[encoded data removed]",
      "text/plain": [
       "<Figure size 432x288 with 1 Axes>"
      ]
     },
     "metadata": {
      "needs_background": "light"
     },
     "output_type": "display_data"
    }
   ],
   "source": [
    "evalu(svc)"
   ]
  },
  {
   "cell_type": "code",
   "execution_count": 60,
   "id": "08c7bcec",
   "metadata": {},
   "outputs": [],
   "source": [
    "# evaluate other models\n",
    "knn=make_pipeline(StandardScaler(),KNeighborsClassifier())\n",
    "dt=make_pipeline(StandardScaler(),DecisionTreeClassifier())"
   ]
  },
  {
   "cell_type": "code",
   "execution_count": 61,
   "id": "c05b0c96",
   "metadata": {},
   "outputs": [
    {
     "name": "stdout",
     "output_type": "stream",
     "text": [
      "confusion matrix [[526   6]\n",
      " [  7  76]]\n",
      "              precision    recall  f1-score   support\n",
      "\n",
      "           0       0.99      0.99      0.99       532\n",
      "           1       0.93      0.92      0.92        83\n",
      "\n",
      "    accuracy                           0.98       615\n",
      "   macro avg       0.96      0.95      0.95       615\n",
      "weighted avg       0.98      0.98      0.98       615\n",
      "\n"
     ]
    },
    {
     "data": {
      "image/png": "[encoded data removed]",
      "text/plain": [
       "<Figure size 432x288 with 1 Axes>"
      ]
     },
     "metadata": {
      "needs_background": "light"
     },
     "output_type": "display_data"
    }
   ],
   "source": [
    "# KNN\n",
    "evalu(knn)"
   ]
  },
  {
   "cell_type": "code",
   "execution_count": 62,
   "id": "3ba267a2",
   "metadata": {},
   "outputs": [
    {
     "name": "stdout",
     "output_type": "stream",
     "text": [
      "confusion matrix [[524   8]\n",
      " [  5  78]]\n",
      "              precision    recall  f1-score   support\n",
      "\n",
      "           0       0.99      0.98      0.99       532\n",
      "           1       0.91      0.94      0.92        83\n",
      "\n",
      "    accuracy                           0.98       615\n",
      "   macro avg       0.95      0.96      0.96       615\n",
      "weighted avg       0.98      0.98      0.98       615\n",
      "\n"
     ]
    },
    {
     "data": {
      "image/png": "[encoded data removed]",
      "text/plain": [
       "<Figure size 432x288 with 1 Axes>"
      ]
     },
     "metadata": {
      "needs_background": "light"
     },
     "output_type": "display_data"
    }
   ],
   "source": [
    "# Decision tree\n",
    "evalu(dt)"
   ]
  },
  {
   "cell_type": "code",
   "execution_count": 63,
   "id": "33bfab42",
   "metadata": {},
   "outputs": [],
   "source": [
    "# I have decide to choose SVC for optimisation"
   ]
  },
  {
   "cell_type": "code",
   "execution_count": 64,
   "id": "ab024d1a",
   "metadata": {},
   "outputs": [],
   "source": [
    "# Optimisation"
   ]
  },
  {
   "cell_type": "code",
   "execution_count": 65,
   "id": "8f3e6ec5",
   "metadata": {},
   "outputs": [
    {
     "data": {
      "text/plain": [
       "Pipeline(steps=[('standardscaler', StandardScaler()), ('svc', SVC())])"
      ]
     },
     "execution_count": 65,
     "metadata": {},
     "output_type": "execute_result"
    }
   ],
   "source": [
    "svc"
   ]
  },
  {
   "cell_type": "code",
   "execution_count": 66,
   "id": "688e9f15",
   "metadata": {},
   "outputs": [],
   "source": [
    "param={\n",
    "    \"svc__C\":[1.0,2.0,5.0,40.0,632.0],\n",
    "    \"svc__gamma\":[1e-4,1e-5]\n",
    "}"
   ]
  },
  {
   "cell_type": "code",
   "execution_count": 67,
   "id": "78c95093",
   "metadata": {},
   "outputs": [
    {
     "name": "stdout",
     "output_type": "stream",
     "text": [
      "{'svc__C': 632.0, 'svc__gamma': 0.0001}\n"
     ]
    }
   ],
   "source": [
    "grid=GridSearchCV(svc,param,scoring=\"recall\",cv=5)\n",
    "grid.fit(X_train,y_train)\n",
    "print(grid.best_params_)"
   ]
  },
  {
   "cell_type": "code",
   "execution_count": 68,
   "id": "25cf5083",
   "metadata": {},
   "outputs": [
    {
     "name": "stdout",
     "output_type": "stream",
     "text": [
      "confusion matrix [[529   3]\n",
      " [  4  79]]\n",
      "              precision    recall  f1-score   support\n",
      "\n",
      "           0       0.99      0.99      0.99       532\n",
      "           1       0.96      0.95      0.96        83\n",
      "\n",
      "    accuracy                           0.99       615\n",
      "   macro avg       0.98      0.97      0.98       615\n",
      "weighted avg       0.99      0.99      0.99       615\n",
      "\n"
     ]
    },
    {
     "data": {
      "image/png": "[encoded data removed]",
      "text/plain": [
       "<Figure size 432x288 with 1 Axes>"
      ]
     },
     "metadata": {
      "needs_background": "light"
     },
     "output_type": "display_data"
    }
   ],
   "source": [
    "evalu(grid.best_estimator_)"
   ]
  },
  {
   "cell_type": "code",
   "execution_count": 69,
   "id": "19fa7585",
   "metadata": {},
   "outputs": [
    {
     "data": {
      "text/plain": [
       "0.9886178861788618"
      ]
     },
     "execution_count": 69,
     "metadata": {},
     "output_type": "execute_result"
    }
   ],
   "source": [
    " # Model final score\n",
    "grid.best_estimator_.score(X_test,y_test)"
   ]
  },
  {
   "cell_type": "code",
   "execution_count": null,
   "id": "2d7f62d8",
   "metadata": {},
   "outputs": [],
   "source": []
  },
  {
   "cell_type": "code",
   "execution_count": null,
   "id": "5a113670",
   "metadata": {},
   "outputs": [],
   "source": []
  }
 ],
 "metadata": {
  "kernelspec": {
   "display_name": "Python 3 (ipykernel)",
   "language": "python",
   "name": "python3"
  },
  "language_info": {
   "codemirror_mode": {
    "name": "ipython",
    "version": 3
   },
   "file_extension": ".py",
   "mimetype": "text/x-python",
   "name": "python",
   "nbconvert_exporter": "python",
   "pygments_lexer": "ipython3",
   "version": "3.9.12"
  }
 },
 "nbformat": 4,
 "nbformat_minor": 5
}
